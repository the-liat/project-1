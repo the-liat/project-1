{
 "cells": [
  {
   "cell_type": "code",
   "execution_count": 1,
   "id": "10bd8b8f",
   "metadata": {},
   "outputs": [],
   "source": [
    "#File dependencies\n",
    "import pandas as pd\n",
    "import numpy as np"
   ]
  },
  {
   "cell_type": "code",
   "execution_count": 2,
   "id": "97d01a5e",
   "metadata": {
    "scrolled": true
   },
   "outputs": [
    {
     "data": {
      "text/html": [
       "<div>\n",
       "<style scoped>\n",
       "    .dataframe tbody tr th:only-of-type {\n",
       "        vertical-align: middle;\n",
       "    }\n",
       "\n",
       "    .dataframe tbody tr th {\n",
       "        vertical-align: top;\n",
       "    }\n",
       "\n",
       "    .dataframe thead th {\n",
       "        text-align: right;\n",
       "    }\n",
       "</style>\n",
       "<table border=\"1\" class=\"dataframe\">\n",
       "  <thead>\n",
       "    <tr style=\"text-align: right;\">\n",
       "      <th></th>\n",
       "      <th>Year</th>\n",
       "      <th>StateAbbr</th>\n",
       "      <th>StateDesc</th>\n",
       "      <th>CityName</th>\n",
       "      <th>GeographicLevel</th>\n",
       "      <th>DataSource</th>\n",
       "      <th>Category</th>\n",
       "      <th>UniqueID</th>\n",
       "      <th>Measure</th>\n",
       "      <th>Data_Value_Unit</th>\n",
       "      <th>...</th>\n",
       "      <th>High_Confidence_Limit</th>\n",
       "      <th>Data_Value_Footnote_Symbol</th>\n",
       "      <th>Data_Value_Footnote</th>\n",
       "      <th>PopulationCount</th>\n",
       "      <th>GeoLocation</th>\n",
       "      <th>CategoryID</th>\n",
       "      <th>MeasureId</th>\n",
       "      <th>CityFIPS</th>\n",
       "      <th>TractFIPS</th>\n",
       "      <th>Short_Question_Text</th>\n",
       "    </tr>\n",
       "  </thead>\n",
       "  <tbody>\n",
       "    <tr>\n",
       "      <th>0</th>\n",
       "      <td>2017</td>\n",
       "      <td>CA</td>\n",
       "      <td>California</td>\n",
       "      <td>Inglewood</td>\n",
       "      <td>Census Tract</td>\n",
       "      <td>BRFSS</td>\n",
       "      <td>Health Outcomes</td>\n",
       "      <td>0636546-06037601801</td>\n",
       "      <td>Diagnosed diabetes among adults aged &gt;=18 Years</td>\n",
       "      <td>%</td>\n",
       "      <td>...</td>\n",
       "      <td>13.5</td>\n",
       "      <td>NaN</td>\n",
       "      <td>NaN</td>\n",
       "      <td>2,472</td>\n",
       "      <td>(33.9439711273, -118.349937728)</td>\n",
       "      <td>HLTHOUT</td>\n",
       "      <td>DIABETES</td>\n",
       "      <td>636546.0</td>\n",
       "      <td>6.037602e+09</td>\n",
       "      <td>Diabetes</td>\n",
       "    </tr>\n",
       "    <tr>\n",
       "      <th>1</th>\n",
       "      <td>2017</td>\n",
       "      <td>AL</td>\n",
       "      <td>Alabama</td>\n",
       "      <td>Huntsville</td>\n",
       "      <td>Census Tract</td>\n",
       "      <td>BRFSS</td>\n",
       "      <td>Health Outcomes</td>\n",
       "      <td>0137000-01089002922</td>\n",
       "      <td>Diagnosed diabetes among adults aged &gt;=18 Years</td>\n",
       "      <td>%</td>\n",
       "      <td>...</td>\n",
       "      <td>10.3</td>\n",
       "      <td>NaN</td>\n",
       "      <td>NaN</td>\n",
       "      <td>4,387</td>\n",
       "      <td>(34.612755588, -86.5329568642)</td>\n",
       "      <td>HLTHOUT</td>\n",
       "      <td>DIABETES</td>\n",
       "      <td>137000.0</td>\n",
       "      <td>1.089003e+09</td>\n",
       "      <td>Diabetes</td>\n",
       "    </tr>\n",
       "    <tr>\n",
       "      <th>2</th>\n",
       "      <td>2017</td>\n",
       "      <td>AK</td>\n",
       "      <td>Alaska</td>\n",
       "      <td>Anchorage</td>\n",
       "      <td>Census Tract</td>\n",
       "      <td>BRFSS</td>\n",
       "      <td>Health Outcomes</td>\n",
       "      <td>0203000-02020002501</td>\n",
       "      <td>Diagnosed diabetes among adults aged &gt;=18 Years</td>\n",
       "      <td>%</td>\n",
       "      <td>...</td>\n",
       "      <td>7.8</td>\n",
       "      <td>NaN</td>\n",
       "      <td>NaN</td>\n",
       "      <td>4,993</td>\n",
       "      <td>(61.1593945029, -149.899866691)</td>\n",
       "      <td>HLTHOUT</td>\n",
       "      <td>DIABETES</td>\n",
       "      <td>203000.0</td>\n",
       "      <td>2.020003e+09</td>\n",
       "      <td>Diabetes</td>\n",
       "    </tr>\n",
       "    <tr>\n",
       "      <th>3</th>\n",
       "      <td>2017</td>\n",
       "      <td>AZ</td>\n",
       "      <td>Arizona</td>\n",
       "      <td>Tempe</td>\n",
       "      <td>Census Tract</td>\n",
       "      <td>BRFSS</td>\n",
       "      <td>Health Outcomes</td>\n",
       "      <td>0473000-04013319907</td>\n",
       "      <td>Diagnosed diabetes among adults aged &gt;=18 Years</td>\n",
       "      <td>%</td>\n",
       "      <td>...</td>\n",
       "      <td>7.9</td>\n",
       "      <td>NaN</td>\n",
       "      <td>NaN</td>\n",
       "      <td>2,225</td>\n",
       "      <td>(33.3419171912, -111.919809152)</td>\n",
       "      <td>HLTHOUT</td>\n",
       "      <td>DIABETES</td>\n",
       "      <td>473000.0</td>\n",
       "      <td>4.013320e+09</td>\n",
       "      <td>Diabetes</td>\n",
       "    </tr>\n",
       "    <tr>\n",
       "      <th>4</th>\n",
       "      <td>2017</td>\n",
       "      <td>AZ</td>\n",
       "      <td>Arizona</td>\n",
       "      <td>Yuma</td>\n",
       "      <td>City</td>\n",
       "      <td>BRFSS</td>\n",
       "      <td>Health Outcomes</td>\n",
       "      <td>485540</td>\n",
       "      <td>Diagnosed diabetes among adults aged &gt;=18 Years</td>\n",
       "      <td>%</td>\n",
       "      <td>...</td>\n",
       "      <td>11.3</td>\n",
       "      <td>NaN</td>\n",
       "      <td>NaN</td>\n",
       "      <td>93,064</td>\n",
       "      <td>(32.5986027117, -114.54836837)</td>\n",
       "      <td>HLTHOUT</td>\n",
       "      <td>DIABETES</td>\n",
       "      <td>485540.0</td>\n",
       "      <td>NaN</td>\n",
       "      <td>Diabetes</td>\n",
       "    </tr>\n",
       "  </tbody>\n",
       "</table>\n",
       "<p>5 rows × 24 columns</p>\n",
       "</div>"
      ],
      "text/plain": [
       "   Year StateAbbr   StateDesc    CityName GeographicLevel DataSource  \\\n",
       "0  2017        CA  California   Inglewood    Census Tract      BRFSS   \n",
       "1  2017        AL     Alabama  Huntsville    Census Tract      BRFSS   \n",
       "2  2017        AK      Alaska   Anchorage    Census Tract      BRFSS   \n",
       "3  2017        AZ     Arizona       Tempe    Census Tract      BRFSS   \n",
       "4  2017        AZ     Arizona        Yuma            City      BRFSS   \n",
       "\n",
       "          Category             UniqueID  \\\n",
       "0  Health Outcomes  0636546-06037601801   \n",
       "1  Health Outcomes  0137000-01089002922   \n",
       "2  Health Outcomes  0203000-02020002501   \n",
       "3  Health Outcomes  0473000-04013319907   \n",
       "4  Health Outcomes               485540   \n",
       "\n",
       "                                           Measure Data_Value_Unit  ...  \\\n",
       "0  Diagnosed diabetes among adults aged >=18 Years               %  ...   \n",
       "1  Diagnosed diabetes among adults aged >=18 Years               %  ...   \n",
       "2  Diagnosed diabetes among adults aged >=18 Years               %  ...   \n",
       "3  Diagnosed diabetes among adults aged >=18 Years               %  ...   \n",
       "4  Diagnosed diabetes among adults aged >=18 Years               %  ...   \n",
       "\n",
       "  High_Confidence_Limit Data_Value_Footnote_Symbol  Data_Value_Footnote  \\\n",
       "0                  13.5                        NaN                  NaN   \n",
       "1                  10.3                        NaN                  NaN   \n",
       "2                   7.8                        NaN                  NaN   \n",
       "3                   7.9                        NaN                  NaN   \n",
       "4                  11.3                        NaN                  NaN   \n",
       "\n",
       "   PopulationCount                      GeoLocation CategoryID MeasureId  \\\n",
       "0            2,472  (33.9439711273, -118.349937728)    HLTHOUT  DIABETES   \n",
       "1            4,387   (34.612755588, -86.5329568642)    HLTHOUT  DIABETES   \n",
       "2            4,993  (61.1593945029, -149.899866691)    HLTHOUT  DIABETES   \n",
       "3            2,225  (33.3419171912, -111.919809152)    HLTHOUT  DIABETES   \n",
       "4           93,064   (32.5986027117, -114.54836837)    HLTHOUT  DIABETES   \n",
       "\n",
       "   CityFIPS     TractFIPS Short_Question_Text  \n",
       "0  636546.0  6.037602e+09            Diabetes  \n",
       "1  137000.0  1.089003e+09            Diabetes  \n",
       "2  203000.0  2.020003e+09            Diabetes  \n",
       "3  473000.0  4.013320e+09            Diabetes  \n",
       "4  485540.0           NaN            Diabetes  \n",
       "\n",
       "[5 rows x 24 columns]"
      ]
     },
     "execution_count": 2,
     "metadata": {},
     "output_type": "execute_result"
    }
   ],
   "source": [
    "#CSV file original\n",
    "file = \"500_Cities__Diagnosed_diabetes_among_adults_aged___18_years - 500_Cities__Diagnosed_diabetes_among_adults_aged___18_years.csv\"\n",
    "cities_500 = pd.read_csv(file)\n",
    "cities_500.head()\n"
   ]
  },
  {
   "cell_type": "code",
   "execution_count": 3,
   "id": "67b82d9d",
   "metadata": {},
   "outputs": [
    {
     "name": "stdout",
     "output_type": "stream",
     "text": [
      "<class 'pandas.core.frame.DataFrame'>\n",
      "RangeIndex: 29006 entries, 0 to 29005\n",
      "Data columns (total 24 columns):\n",
      " #   Column                      Non-Null Count  Dtype  \n",
      "---  ------                      --------------  -----  \n",
      " 0   Year                        29006 non-null  int64  \n",
      " 1   StateAbbr                   29006 non-null  object \n",
      " 2   StateDesc                   29006 non-null  object \n",
      " 3   CityName                    29004 non-null  object \n",
      " 4   GeographicLevel             29006 non-null  object \n",
      " 5   DataSource                  29006 non-null  object \n",
      " 6   Category                    29006 non-null  object \n",
      " 7   UniqueID                    29006 non-null  object \n",
      " 8   Measure                     29006 non-null  object \n",
      " 9   Data_Value_Unit             29006 non-null  object \n",
      " 10  DataValueTypeID             29006 non-null  object \n",
      " 11  Data_Value_Type             29006 non-null  object \n",
      " 12  Data_Value                  28212 non-null  float64\n",
      " 13  Low_Confidence_Limit        28212 non-null  float64\n",
      " 14  High_Confidence_Limit       28212 non-null  float64\n",
      " 15  Data_Value_Footnote_Symbol  794 non-null    object \n",
      " 16  Data_Value_Footnote         794 non-null    object \n",
      " 17  PopulationCount             29006 non-null  object \n",
      " 18  GeoLocation                 29004 non-null  object \n",
      " 19  CategoryID                  29006 non-null  object \n",
      " 20  MeasureId                   29006 non-null  object \n",
      " 21  CityFIPS                    29004 non-null  float64\n",
      " 22  TractFIPS                   28004 non-null  float64\n",
      " 23  Short_Question_Text         29006 non-null  object \n",
      "dtypes: float64(5), int64(1), object(18)\n",
      "memory usage: 5.3+ MB\n"
     ]
    }
   ],
   "source": [
    "#Check for data type issues\n",
    "cities_500.info()"
   ]
  },
  {
   "cell_type": "code",
   "execution_count": 4,
   "id": "c87e599b",
   "metadata": {},
   "outputs": [
    {
     "name": "stdout",
     "output_type": "stream",
     "text": [
      "['California' 'Alabama' 'Alaska' 'Arizona' 'Connecticut' 'Delaware'\n",
      " 'Florida' 'Colorado' 'Indiana' 'Iowa' 'Kansas' 'Louisiana'\n",
      " 'Massachusetts' 'Minnesota' 'Mississippi' 'New Hampshire' 'New Jersey'\n",
      " 'New York' 'North Carolin' 'North Dakota' 'Ohio' 'Oklahoma' 'Oregon'\n",
      " 'Pennsylvania' 'Rhode Island' 'South Carolin' 'Tennessee' 'Texas'\n",
      " 'Virginia' 'Washington' 'Wisconsin' 'United States' 'Arkansas' 'Illinois'\n",
      " 'District of C' 'Georgia' 'Hawaii' 'Idaho' 'Kentucky' 'Maryland'\n",
      " 'Michigan' 'Maine' 'Missouri' 'Nevada' 'Nebraska' 'Montana' 'New Mexico'\n",
      " 'South Dakota' 'Utah' 'Vermont' 'Wyoming' 'West Virginia']\n",
      "------------------------------\n",
      "All of the states represented in dataset: 52\n"
     ]
    }
   ],
   "source": [
    "# check if all states represented\n",
    "print(cities_500[\"StateDesc\"].unique())\n",
    "print(\"-\" * 30)\n",
    "print(f'All of the states represented in dataset: {len(cities_500[\"StateDesc\"].unique())}')"
   ]
  },
  {
   "cell_type": "code",
   "execution_count": 7,
   "id": "fb52375a",
   "metadata": {},
   "outputs": [
    {
     "name": "stdout",
     "output_type": "stream",
     "text": [
      "Category\n",
      "------------------------------\n",
      "['Health Outcomes']\n",
      "**************************************************************************\n",
      "Measure\n",
      "------------------------------\n",
      "['Diagnosed diabetes among adults aged >=18 Years']\n"
     ]
    }
   ],
   "source": [
    "#Print possible variables in \"Category\" & \"Measure\"\n",
    "print(\"Category\")\n",
    "print(\"-\" * 30)\n",
    "print(cities_500[\"Category\"].unique())\n",
    "print(\"*\" * 74)\n",
    "print(\"Measure\")\n",
    "print(\"-\" * 30)\n",
    "print(cities_500[\"Measure\"].unique())"
   ]
  },
  {
   "cell_type": "code",
   "execution_count": 8,
   "id": "0005b34f",
   "metadata": {},
   "outputs": [
    {
     "data": {
      "text/plain": [
       "Index(['Year', 'StateAbbr', 'StateDesc', 'CityName', 'GeographicLevel',\n",
       "       'DataSource', 'Category', 'UniqueID', 'Measure', 'Data_Value_Unit',\n",
       "       'DataValueTypeID', 'Data_Value_Type', 'Data_Value',\n",
       "       'Low_Confidence_Limit', 'High_Confidence_Limit',\n",
       "       'Data_Value_Footnote_Symbol', 'Data_Value_Footnote', 'PopulationCount',\n",
       "       'GeoLocation', 'CategoryID', 'MeasureId', 'CityFIPS', 'TractFIPS',\n",
       "       'Short_Question_Text'],\n",
       "      dtype='object')"
      ]
     },
     "execution_count": 8,
     "metadata": {},
     "output_type": "execute_result"
    }
   ],
   "source": [
    "#Reference for columns\n",
    "cities_500.columns"
   ]
  },
  {
   "cell_type": "code",
   "execution_count": 9,
   "id": "6a2c0783",
   "metadata": {},
   "outputs": [
    {
     "data": {
      "text/html": [
       "<div>\n",
       "<style scoped>\n",
       "    .dataframe tbody tr th:only-of-type {\n",
       "        vertical-align: middle;\n",
       "    }\n",
       "\n",
       "    .dataframe tbody tr th {\n",
       "        vertical-align: top;\n",
       "    }\n",
       "\n",
       "    .dataframe thead th {\n",
       "        text-align: right;\n",
       "    }\n",
       "</style>\n",
       "<table border=\"1\" class=\"dataframe\">\n",
       "  <thead>\n",
       "    <tr style=\"text-align: right;\">\n",
       "      <th></th>\n",
       "      <th>StateDesc</th>\n",
       "      <th>Data_Value</th>\n",
       "      <th>PopulationCount</th>\n",
       "    </tr>\n",
       "  </thead>\n",
       "  <tbody>\n",
       "    <tr>\n",
       "      <th>0</th>\n",
       "      <td>California</td>\n",
       "      <td>12.7</td>\n",
       "      <td>2,472</td>\n",
       "    </tr>\n",
       "    <tr>\n",
       "      <th>1</th>\n",
       "      <td>Alabama</td>\n",
       "      <td>9.3</td>\n",
       "      <td>4,387</td>\n",
       "    </tr>\n",
       "    <tr>\n",
       "      <th>2</th>\n",
       "      <td>Alaska</td>\n",
       "      <td>7.4</td>\n",
       "      <td>4,993</td>\n",
       "    </tr>\n",
       "    <tr>\n",
       "      <th>3</th>\n",
       "      <td>Arizona</td>\n",
       "      <td>7.0</td>\n",
       "      <td>2,225</td>\n",
       "    </tr>\n",
       "    <tr>\n",
       "      <th>4</th>\n",
       "      <td>Arizona</td>\n",
       "      <td>11.1</td>\n",
       "      <td>93,064</td>\n",
       "    </tr>\n",
       "  </tbody>\n",
       "</table>\n",
       "</div>"
      ],
      "text/plain": [
       "    StateDesc  Data_Value PopulationCount\n",
       "0  California        12.7           2,472\n",
       "1     Alabama         9.3           4,387\n",
       "2      Alaska         7.4           4,993\n",
       "3     Arizona         7.0           2,225\n",
       "4     Arizona        11.1          93,064"
      ]
     },
     "execution_count": 9,
     "metadata": {},
     "output_type": "execute_result"
    }
   ],
   "source": [
    "#Reducing data to key columns\n",
    "cities_data_reduced = cities_500[['StateDesc','Data_Value','PopulationCount']]\n",
    "cities_data_reduced.head()"
   ]
  },
  {
   "cell_type": "code",
   "execution_count": 10,
   "id": "53adf561",
   "metadata": {},
   "outputs": [
    {
     "name": "stdout",
     "output_type": "stream",
     "text": [
      "<class 'pandas.core.frame.DataFrame'>\n",
      "RangeIndex: 29006 entries, 0 to 29005\n",
      "Data columns (total 3 columns):\n",
      " #   Column           Non-Null Count  Dtype  \n",
      "---  ------           --------------  -----  \n",
      " 0   StateDesc        29006 non-null  object \n",
      " 1   Data_Value       28212 non-null  float64\n",
      " 2   PopulationCount  29006 non-null  object \n",
      "dtypes: float64(1), object(2)\n",
      "memory usage: 680.0+ KB\n"
     ]
    }
   ],
   "source": [
    "#Checking reduced data\n",
    "cities_data_reduced.dropna(how='any')\n",
    "cities_data_reduced.info()"
   ]
  },
  {
   "cell_type": "code",
   "execution_count": 17,
   "id": "c625e3cc",
   "metadata": {
    "scrolled": false
   },
   "outputs": [
    {
     "name": "stderr",
     "output_type": "stream",
     "text": [
      "C:\\Users\\Chris\\anaconda3\\envs\\PythonData\\lib\\site-packages\\ipykernel_launcher.py:2: SettingWithCopyWarning: \n",
      "A value is trying to be set on a copy of a slice from a DataFrame.\n",
      "Try using .loc[row_indexer,col_indexer] = value instead\n",
      "\n",
      "See the caveats in the documentation: https://pandas.pydata.org/pandas-docs/stable/user_guide/indexing.html#returning-a-view-versus-a-copy\n",
      "  \n",
      "C:\\Users\\Chris\\anaconda3\\envs\\PythonData\\lib\\site-packages\\ipykernel_launcher.py:3: SettingWithCopyWarning: \n",
      "A value is trying to be set on a copy of a slice from a DataFrame.\n",
      "Try using .loc[row_indexer,col_indexer] = value instead\n",
      "\n",
      "See the caveats in the documentation: https://pandas.pydata.org/pandas-docs/stable/user_guide/indexing.html#returning-a-view-versus-a-copy\n",
      "  This is separate from the ipykernel package so we can avoid doing imports until\n"
     ]
    },
    {
     "data": {
      "text/plain": [
       "dtype('float64')"
      ]
     },
     "execution_count": 17,
     "metadata": {},
     "output_type": "execute_result"
    }
   ],
   "source": [
    "#Converting Data_Value into a float\n",
    "cities_data_reduced['PopulationCount'] = cities_data_reduced['PopulationCount'].str.replace(',','')\n",
    "cities_data_reduced['PopulationCount'] = cities_data_reduced['PopulationCount'].astype(float)\n",
    "cities_data_reduced['PopulationCount'].dtype"
   ]
  },
  {
   "cell_type": "code",
   "execution_count": 18,
   "id": "d10cde2b",
   "metadata": {},
   "outputs": [
    {
     "name": "stderr",
     "output_type": "stream",
     "text": [
      "C:\\Users\\Chris\\anaconda3\\envs\\PythonData\\lib\\site-packages\\ipykernel_launcher.py:3: SettingWithCopyWarning: \n",
      "A value is trying to be set on a copy of a slice from a DataFrame.\n",
      "Try using .loc[row_indexer,col_indexer] = value instead\n",
      "\n",
      "See the caveats in the documentation: https://pandas.pydata.org/pandas-docs/stable/user_guide/indexing.html#returning-a-view-versus-a-copy\n",
      "  This is separate from the ipykernel package so we can avoid doing imports until\n"
     ]
    },
    {
     "data": {
      "text/html": [
       "<div>\n",
       "<style scoped>\n",
       "    .dataframe tbody tr th:only-of-type {\n",
       "        vertical-align: middle;\n",
       "    }\n",
       "\n",
       "    .dataframe tbody tr th {\n",
       "        vertical-align: top;\n",
       "    }\n",
       "\n",
       "    .dataframe thead th {\n",
       "        text-align: right;\n",
       "    }\n",
       "</style>\n",
       "<table border=\"1\" class=\"dataframe\">\n",
       "  <thead>\n",
       "    <tr style=\"text-align: right;\">\n",
       "      <th></th>\n",
       "      <th>StateDesc</th>\n",
       "      <th>Data_Value</th>\n",
       "      <th>PopulationCount</th>\n",
       "      <th>ValueXPopSize</th>\n",
       "    </tr>\n",
       "  </thead>\n",
       "  <tbody>\n",
       "    <tr>\n",
       "      <th>0</th>\n",
       "      <td>California</td>\n",
       "      <td>12.7</td>\n",
       "      <td>2472.0</td>\n",
       "      <td>313.944</td>\n",
       "    </tr>\n",
       "    <tr>\n",
       "      <th>1</th>\n",
       "      <td>Alabama</td>\n",
       "      <td>9.3</td>\n",
       "      <td>4387.0</td>\n",
       "      <td>407.991</td>\n",
       "    </tr>\n",
       "    <tr>\n",
       "      <th>2</th>\n",
       "      <td>Alaska</td>\n",
       "      <td>7.4</td>\n",
       "      <td>4993.0</td>\n",
       "      <td>369.482</td>\n",
       "    </tr>\n",
       "    <tr>\n",
       "      <th>3</th>\n",
       "      <td>Arizona</td>\n",
       "      <td>7.0</td>\n",
       "      <td>2225.0</td>\n",
       "      <td>155.750</td>\n",
       "    </tr>\n",
       "    <tr>\n",
       "      <th>4</th>\n",
       "      <td>Arizona</td>\n",
       "      <td>11.1</td>\n",
       "      <td>93064.0</td>\n",
       "      <td>10330.104</td>\n",
       "    </tr>\n",
       "  </tbody>\n",
       "</table>\n",
       "</div>"
      ],
      "text/plain": [
       "    StateDesc  Data_Value  PopulationCount  ValueXPopSize\n",
       "0  California        12.7           2472.0        313.944\n",
       "1     Alabama         9.3           4387.0        407.991\n",
       "2      Alaska         7.4           4993.0        369.482\n",
       "3     Arizona         7.0           2225.0        155.750\n",
       "4     Arizona        11.1          93064.0      10330.104"
      ]
     },
     "execution_count": 18,
     "metadata": {},
     "output_type": "execute_result"
    }
   ],
   "source": [
    "#Creating new column to identify Diabetes Population\n",
    "cities_data_reduced['ValueXPopSize'] = (cities_data_reduced['PopulationCount'] * \n",
    "                                               cities_data_reduced['Data_Value'] * .01)\n",
    "cities_data_reduced.head()"
   ]
  },
  {
   "cell_type": "code",
   "execution_count": 21,
   "id": "0403af0d",
   "metadata": {},
   "outputs": [
    {
     "data": {
      "text/plain": [
       "StateDesc\n",
       "Alabama        388753.945\n",
       "Alaska          66192.253\n",
       "Arizona       1073095.769\n",
       "Arkansas       153044.157\n",
       "California    6571891.358\n",
       "Name: ValueXPopSize, dtype: float64"
      ]
     },
     "execution_count": 21,
     "metadata": {},
     "output_type": "execute_result"
    }
   ],
   "source": [
    "#Code to combine states data and add Diabetes Population column\n",
    "state_data = cities_data_reduced.groupby(['StateDesc']).sum()['ValueXPopSize']\n",
    "state_data.head()"
   ]
  },
  {
   "cell_type": "code",
   "execution_count": 22,
   "id": "44dc2e37",
   "metadata": {},
   "outputs": [],
   "source": [
    "#Store new spreadsheet\n",
    "state_data.to_csv(\"state_data.csv\", encoding=\"utf-8\", index=False, header=True)\n",
    " "
   ]
  },
  {
   "cell_type": "code",
   "execution_count": null,
   "id": "9746d22e",
   "metadata": {},
   "outputs": [],
   "source": []
  }
 ],
 "metadata": {
  "kernelspec": {
   "display_name": "Python (PythonData)",
   "language": "python",
   "name": "pythondata"
  },
  "language_info": {
   "codemirror_mode": {
    "name": "ipython",
    "version": 3
   },
   "file_extension": ".py",
   "mimetype": "text/x-python",
   "name": "python",
   "nbconvert_exporter": "python",
   "pygments_lexer": "ipython3",
   "version": "3.7.7"
  }
 },
 "nbformat": 4,
 "nbformat_minor": 5
}
