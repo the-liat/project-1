{
 "cells": [
  {
   "cell_type": "code",
   "execution_count": null,
   "id": "41ea0df2",
   "metadata": {},
   "outputs": [],
   "source": [
    "#File dependencies\n",
    "import pandas as pd\n",
    "import numpy as np"
   ]
  },
  {
   "cell_type": "code",
   "execution_count": null,
   "id": "2cdb25e2",
   "metadata": {
    "scrolled": true
   },
   "outputs": [],
   "source": [
    "#CSV file original\n",
    "file = \"500_Cities__Diagnosed_diabetes_among_adults_aged___18_years - 500_Cities__Diagnosed_diabetes_among_adults_aged___18_years.csv\"\n",
    "cities_500 = pd.read_csv(file)\n",
    "cities_500.head()\n"
   ]
  },
  {
   "cell_type": "code",
   "execution_count": null,
   "id": "e97d0c9c",
   "metadata": {},
   "outputs": [],
   "source": [
    "#Check for data type issues\n",
    "cities_500.info()"
   ]
  },
  {
   "cell_type": "code",
   "execution_count": null,
   "id": "8855b0b0",
   "metadata": {},
   "outputs": [],
   "source": [
    "# check if all states represented\n",
    "print(cities_500[\"StateDesc\"].unique())\n",
    "print(\"-\" * 30)\n",
    "print(f'All of the states represented in dataset: {len(cities_500[\"StateDesc\"].unique())}')"
   ]
  },
  {
   "cell_type": "code",
   "execution_count": null,
   "id": "6439fd3e",
   "metadata": {},
   "outputs": [],
   "source": [
    "#Print possible variables in \"Category\" & \"Measure\"\n",
    "print(\"Category\")\n",
    "print(\"-\" * 30)\n",
    "print(cities_500[\"Category\"].unique())\n",
    "print(\"*\" * 74)\n",
    "print(\"Measure\")\n",
    "print(\"-\" * 30)\n",
    "print(cities_500[\"Measure\"].unqiue())"
   ]
  },
  {
   "cell_type": "code",
   "execution_count": null,
   "id": "5cc3495c",
   "metadata": {},
   "outputs": [],
   "source": [
    "#Reference for columns\n",
    "cities_500.columns"
   ]
  },
  {
   "cell_type": "code",
   "execution_count": null,
   "id": "be8c1e2a",
   "metadata": {},
   "outputs": [],
   "source": [
    "#Reducing data to key columns\n",
    "cities_data_reduced = cities_500[['StateDesc','Data_Value','PopulationCount']]\n",
    "cities_data_reduced.head()"
   ]
  },
  {
   "cell_type": "code",
   "execution_count": null,
   "id": "63eff3b9",
   "metadata": {},
   "outputs": [],
   "source": [
    "#Checking reduced data\n",
    "cities_data_reduced.dropna(how='any')\n",
    "cities_data_reduced.info()"
   ]
  },
  {
   "cell_type": "code",
   "execution_count": null,
   "id": "d43d8fbd",
   "metadata": {},
   "outputs": [],
   "source": [
    "#Creating new column that gives Diabetes Population\n",
    "cities_data_reduced['Data_Value'] = cities_data_reduced['Data_Value'].astype(float)\n",
    "cities_data_reduced['Diabetes Population'] = (cities_data_reduced['PopulationCount'] * \n",
    "                                               cities_data_reduced['Data_Value'] * .01)\n",
    "cities_data_reduced.head()"
   ]
  },
  {
   "cell_type": "code",
   "execution_count": null,
   "id": "fa3961ec",
   "metadata": {},
   "outputs": [],
   "source": []
  },
  {
   "cell_type": "code",
   "execution_count": null,
   "id": "d9aa7af2",
   "metadata": {},
   "outputs": [],
   "source": []
  }
 ],
 "metadata": {
  "kernelspec": {
   "display_name": "Python (PythonData)",
   "language": "python",
   "name": "pythondata"
  },
  "language_info": {
   "codemirror_mode": {
    "name": "ipython",
    "version": 3
   },
   "file_extension": ".py",
   "mimetype": "text/x-python",
   "name": "python",
   "nbconvert_exporter": "python",
   "pygments_lexer": "ipython3",
   "version": "3.7.7"
  }
 },
 "nbformat": 4,
 "nbformat_minor": 5
}
