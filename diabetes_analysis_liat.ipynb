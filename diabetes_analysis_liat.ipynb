{
 "cells": [
  {
   "cell_type": "markdown",
   "id": "9fc79962",
   "metadata": {},
   "source": [
    "# Exercise, Nutrition, & Obesity as Predicators of Diabetes at the State Level"
   ]
  },
  {
   "cell_type": "markdown",
   "id": "0ac06bc2",
   "metadata": {},
   "source": [
    "## Merging diabetes and npao files"
   ]
  },
  {
   "cell_type": "code",
   "execution_count": null,
   "id": "2f603d10",
   "metadata": {
    "scrolled": true
   },
   "outputs": [],
   "source": [
    "#Reading diabetes rates\n",
    "import pandas as pd\n",
    "\n",
    "state_diabetes_data_df = pd.read_csv(\"Datasets/state_diabetes_data.csv\")\n",
    "state_diabetes_data_df\n"
   ]
  },
  {
   "cell_type": "code",
   "execution_count": null,
   "id": "d204be79",
   "metadata": {
    "scrolled": true
   },
   "outputs": [],
   "source": [
    "#Clean diabetes rates dataset\n",
    "npao_df = pd.read_csv(\"Datasets/npao_final.csv\")\n",
    "npao_df"
   ]
  },
  {
   "cell_type": "markdown",
   "id": "73f9d7ba",
   "metadata": {},
   "source": [
    "#### Clean nutrition, physical activity, and obesity dataset"
   ]
  },
  {
   "cell_type": "code",
   "execution_count": null,
   "id": "28b31e8f",
   "metadata": {},
   "outputs": [],
   "source": [
    "state_diabetes_data_df[\"State\"].unique()"
   ]
  },
  {
   "cell_type": "code",
   "execution_count": null,
   "id": "28ed039b",
   "metadata": {},
   "outputs": [],
   "source": [
    "npao_df[\"State\"].unique()"
   ]
  },
  {
   "cell_type": "code",
   "execution_count": null,
   "id": "99fc6862",
   "metadata": {},
   "outputs": [],
   "source": [
    "# filtering out the two places that are not in both sets \n",
    "npao_df = npao_df.loc[(npao_df['State'] != 'Guam') & (npao_df['State'] != 'Puerto Rico'), :]\n",
    "npao_df"
   ]
  },
  {
   "cell_type": "code",
   "execution_count": null,
   "id": "0af4db9b",
   "metadata": {},
   "outputs": [],
   "source": [
    "# Matching the state names on the diabetes dataset to the npao one\n",
    "state_diabetes_data_df[\"State\"] = state_diabetes_data_df[\"State\"]. replace(\n",
    "    {'District of C': 'District of Columbia', 'North Carolin': 'North Carolina',\n",
    "     'South Carolin': 'South Carolina'})\n",
    "state_diabetes_data_df\n"
   ]
  },
  {
   "cell_type": "code",
   "execution_count": null,
   "id": "1c122390",
   "metadata": {},
   "outputs": [],
   "source": [
    "# Merge the two cleaned datasets\n",
    "merged_df = pd.merge(state_diabetes_data_df, npao_df,  how = \"inner\", on =\"State\")\n",
    "merged_df.head()"
   ]
  },
  {
   "cell_type": "markdown",
   "id": "aedc99fe",
   "metadata": {},
   "source": [
    "## Describe the rate of diabetes in the US"
   ]
  },
  {
   "cell_type": "code",
   "execution_count": null,
   "id": "ff524fa3",
   "metadata": {},
   "outputs": [],
   "source": []
  },
  {
   "cell_type": "markdown",
   "id": "98b06149",
   "metadata": {},
   "source": [
    "Findings:\n",
    "* lkljkljlkj\n",
    "* kjhhjkhk"
   ]
  },
  {
   "cell_type": "markdown",
   "id": "734261b0",
   "metadata": {},
   "source": [
    "## Compare rates among US regions\n"
   ]
  },
  {
   "cell_type": "code",
   "execution_count": null,
   "id": "bc8e056b",
   "metadata": {},
   "outputs": [],
   "source": []
  },
  {
   "cell_type": "code",
   "execution_count": null,
   "id": "331590e6",
   "metadata": {},
   "outputs": [],
   "source": []
  },
  {
   "cell_type": "markdown",
   "id": "e70e29a3",
   "metadata": {},
   "source": [
    "Findings:\n",
    "* lkljkljlkj\n",
    "* kjhhjkhk"
   ]
  },
  {
   "cell_type": "markdown",
   "id": "a29f760a",
   "metadata": {},
   "source": [
    "## Inspect relationship between nutrition, physical activity, obesity, and diabetes\n",
    "\n"
   ]
  },
  {
   "cell_type": "code",
   "execution_count": null,
   "id": "9b891ed9",
   "metadata": {},
   "outputs": [],
   "source": [
    "# dependencies\n",
    "import matplotlib.pyplot as plt\n",
    "import scipy.stats as st"
   ]
  },
  {
   "cell_type": "code",
   "execution_count": null,
   "id": "bd7041a4",
   "metadata": {},
   "outputs": [],
   "source": [
    "merged_df.columns"
   ]
  },
  {
   "cell_type": "code",
   "execution_count": null,
   "id": "be69b00b",
   "metadata": {},
   "outputs": [],
   "source": [
    "# Creating arrays of all variables\n",
    "diabetes = merged_df['Diabetes%']\n",
    "obesity = merged_df['Obesity %']\n",
    "overweight = merged_df['Overweight %']\n",
    "inactive = merged_df['In-Active %']\n",
    "strength = merged_df['Muscle Strengthening %']\n",
    "low_aerobics = merged_df['Low Aerobics %']\n",
    "high_aerobics = merged_df['High Aerobics %']\n",
    "stren_cond = merged_df['Strength & Conditioning %']\n",
    "low_veggies = merged_df['Low Veggies Consumption %']\n",
    "low_fruit = merged_df['Low Fruit Consumption %']"
   ]
  },
  {
   "cell_type": "code",
   "execution_count": null,
   "id": "d9d20ff3",
   "metadata": {},
   "outputs": [],
   "source": [
    "# Relationship between Obesity and Diabetes (pearson corr and scatter plot)\n",
    "correlation = st.pearsonr(obesity,diabetes)\n",
    "plt.scatter(obesity,diabetes)\n",
    "plt.xlabel('Obesity Rates (%)')\n",
    "plt.ylabel('Diabetes Rates (%)')\n",
    "print(f\"The correlation between **Diabetes** and **Obesity** is {round(correlation[0],2)}\")\n",
    "plt.show()"
   ]
  },
  {
   "cell_type": "markdown",
   "id": "097a8568",
   "metadata": {},
   "source": [
    "Higher obesity rates in states in 2011-2015 is related to higher diabetes rates in 2016-2017"
   ]
  },
  {
   "cell_type": "code",
   "execution_count": null,
   "id": "5c63ef69",
   "metadata": {},
   "outputs": [],
   "source": [
    "# Relationship between Overweight and Diabetes (pearson corr and scatter plot)\n",
    "correlation = st.pearsonr(overweight,diabetes)\n",
    "plt.scatter(overweight,diabetes)\n",
    "plt.xlabel('Overweight Rates (%)')\n",
    "plt.ylabel('Diabetes Rates (%)')\n",
    "print(f\"The correlation between **Diabetes** and **Overweight** is {round(correlation[0],2)}\")\n",
    "plt.show()"
   ]
  },
  {
   "cell_type": "markdown",
   "id": "700b4860",
   "metadata": {},
   "source": [
    "There is one state that is an outlier, and because of that the ccorrelation looks negative.\n",
    "Taking out this outlier will result in no relationship between overweight and diabetes."
   ]
  },
  {
   "cell_type": "code",
   "execution_count": null,
   "id": "fa64cf79",
   "metadata": {},
   "outputs": [],
   "source": [
    "# Relationship between Inactivity and Diabetes (pearson corr and scatter plot)\n",
    "correlation = st.pearsonr(inactive,diabetes)\n",
    "plt.scatter(inactive,diabetes)\n",
    "plt.xlabel('Inactivity: rates of sedentary people (%)')\n",
    "plt.ylabel('Diabetes Rates (%)')\n",
    "print(f\"The correlation between **Diabetes** and **Inactivity** is {round(correlation[0],2)}\")\n",
    "plt.show()"
   ]
  },
  {
   "cell_type": "markdown",
   "id": "bf81ae0c",
   "metadata": {},
   "source": [
    "Inactivity is strongly related to diabetes. Higher rates of inactivity in the states are related to higher rates of obesity."
   ]
  },
  {
   "cell_type": "code",
   "execution_count": null,
   "id": "2ab144e5",
   "metadata": {},
   "outputs": [],
   "source": [
    "# Relationship between Muscle Strengthening and Diabetes (pearson corr and scatter plot)\n",
    "correlation = st.pearsonr(strength,diabetes)\n",
    "plt.scatter(strength,diabetes)\n",
    "plt.xlabel('Rates of People who Do Muscle Strengthening Activiites (%)')\n",
    "plt.ylabel('Diabetes Rates (%)')\n",
    "print(f\"The correlation between **Diabetes** and **Muscle Strenghtening** is {round(correlation[0],2)}\")\n",
    "plt.show()"
   ]
  },
  {
   "cell_type": "markdown",
   "id": "42a9ed3a",
   "metadata": {},
   "source": [
    "Higher muscle strengtheining rates are moderately related to lower diabetes rates"
   ]
  },
  {
   "cell_type": "code",
   "execution_count": null,
   "id": "98856400",
   "metadata": {},
   "outputs": [],
   "source": [
    "# Relationship between Low Aerobic Exercise and Diabetes (pearson corr and scatter plot)\n",
    "correlation = st.pearsonr(low_aerobics,diabetes)\n",
    "plt.scatter(low_aerobics,diabetes)\n",
    "plt.xlabel('Low Aerobic Exercise Rates (%)')\n",
    "plt.ylabel('Diabetes Rates (%)')\n",
    "print(f\"The correlation between **Diabetes** and **Low Aerobic Exercise** is {round(correlation[0],2)}\")\n",
    "plt.show()"
   ]
  },
  {
   "cell_type": "markdown",
   "id": "718cee9f",
   "metadata": {},
   "source": [
    "Higher low aerobic exercise rates are moderately related to lower diabetes rates"
   ]
  },
  {
   "cell_type": "code",
   "execution_count": null,
   "id": "201e5aca",
   "metadata": {},
   "outputs": [],
   "source": [
    "# Relationship between High Aerobic Exercise and Diabetes (pearson corr and scatter plot)\n",
    "correlation = st.pearsonr(high_aerobics,diabetes)\n",
    "plt.scatter(high_aerobics,diabetes)\n",
    "plt.xlabel('High Aerobic Exercise Rates (%)')\n",
    "plt.ylabel('Diabetes Rates (%)')\n",
    "print(f\"The correlation between **Diabetes** and **High Aerobic Exercise** is {round(correlation[0],2)}\")\n",
    "plt.show()"
   ]
  },
  {
   "cell_type": "markdown",
   "id": "8bc40614",
   "metadata": {},
   "source": [
    "Higher high aerobic exercise rates are moderately related to lower diabetes rates"
   ]
  },
  {
   "cell_type": "code",
   "execution_count": null,
   "id": "c02444ad",
   "metadata": {},
   "outputs": [],
   "source": [
    "# Relationship between Strength and Conditioning and Diabetes (pearson corr and scatter plot)\n",
    "correlation = st.pearsonr(stren_cond,diabetes)\n",
    "plt.scatter(stren_cond,diabetes)\n",
    "plt.xlabel('Strength and Conditioning Rates (%)')\n",
    "plt.ylabel('Diabetes Rates (%)')\n",
    "print(f\"The correlation between **Diabetes** and **Strength and Conditioning** is {round(correlation[0],2)}\")\n",
    "plt.show()"
   ]
  },
  {
   "cell_type": "markdown",
   "id": "97495829",
   "metadata": {},
   "source": [
    "Higher strength and conditioning exercise rates are moderately related to lower diabetes rates"
   ]
  },
  {
   "cell_type": "code",
   "execution_count": null,
   "id": "fea03340",
   "metadata": {},
   "outputs": [],
   "source": [
    "# Relationship between low consumption of vegetables and Diabetes (pearson corr and scatter plot)\n",
    "correlation = st.pearsonr(low_veggies,diabetes)\n",
    "plt.scatter(low_veggies,diabetes)\n",
    "plt.xlabel('Rates of Low Consumption of Vegetables (%)')\n",
    "plt.ylabel('Diabetes Rates (%)')\n",
    "print(f\"The correlation between **Diabetes** and **Low Consumption of Vegetables** is {round(correlation[0],2)}\")\n",
    "plt.show() "
   ]
  },
  {
   "cell_type": "markdown",
   "id": "dc5d00f2",
   "metadata": {},
   "source": [
    "Higher rates of people not eating veggies are moderately related to higher diabetes rates"
   ]
  },
  {
   "cell_type": "code",
   "execution_count": null,
   "id": "06e42135",
   "metadata": {},
   "outputs": [],
   "source": [
    "# Relationship between low consumption of fruit and Diabetes (pearson corr and scatter plot)\n",
    "correlation = st.pearsonr(low_fruit,diabetes)\n",
    "plt.scatter(low_fruit,diabetes)\n",
    "plt.xlabel('Rates of Low Consumption of Fruit (%)')\n",
    "plt.ylabel('Diabetes Rates (%)')\n",
    "print(f\"The correlation between **Diabetes** and **Low Consumption of Fruit** is {round(correlation[0],2)}\")\n",
    "plt.show()"
   ]
  },
  {
   "cell_type": "markdown",
   "id": "3f6cfced",
   "metadata": {},
   "source": [
    "Higher rates of people not eating fruit are moderately related to higher diabetes rates"
   ]
  },
  {
   "cell_type": "markdown",
   "id": "9fae2d4a",
   "metadata": {},
   "source": [
    "Summary of findings:\n",
    "* Higher obesity rates in states in 2011-2015 are moderately related to higher diabetes rates in 2016-2017\n",
    "* Higher inactivity rates in states in 2011-2015 are strongly related to higher diabetes rates in 2016-2017\n",
    "* Higher muscle strengtheining rates in states in 2011-2015 are moderately related to lower diabetes rates in 2016-2017\n",
    "* Higher low aeroobics exercise rates in states in 2011-2015 are moderately related to lower diabetes rates in 2016-2017\n",
    "* Higher high aeroobics exercise rates in states in 2011-2015 are moderately related to lower diabetes rates in 2016-2017\n",
    "* Higher strength and conditioning exercise rates in states in 2011-2015 are moderately related to lower diabetes rates in 2016-2017\n",
    "* Higher strength and conditioning exercise rates in states in 2011-2015 are moderately related to lower diabetes rates in 2016-2017\n",
    "* Higher rates of people not eating vegetables in states in 2011-2015 are moderately related higher diabetes rates in 2016-2017\n",
    "* Higher rates of people not eating fruit in states in 2011-2015 are moderately related higher diabetes rates in 2016-2017"
   ]
  },
  {
   "cell_type": "markdown",
   "id": "bf5f8215",
   "metadata": {},
   "source": [
    "## Predict diabetes rates based on nutrition, physical activity, obesity, and diabetes"
   ]
  },
  {
   "cell_type": "code",
   "execution_count": null,
   "id": "b2047a36",
   "metadata": {},
   "outputs": [],
   "source": [
    "# Showing all bi variate correlations between the variables that have highest correlation with diabetes\n",
    "corr_matrix = merged_df[['Diabetes%', 'Obesity %', 'In-Active %', 'Low Veggies Consumption %']].corr()\n",
    "print('Correlation Matrix \\n', corr_matrix)\n"
   ]
  },
  {
   "cell_type": "code",
   "execution_count": null,
   "id": "32a35b0f",
   "metadata": {},
   "outputs": [],
   "source": [
    "#fitting a multiple linear regression: Diabete and Obesity\n",
    "\n",
    "# dependnecies\n",
    "from scipy.stats import linregress\n",
    "\n",
    "# Spliting the data into predictor (x) and target (y)\n",
    "x = merged_df['Obesity %']\n",
    "y = merged_df[\"Diabetes%\"]\n",
    "\n",
    "# linear regression values, scatter plot and plotting the regression line on the graph\n",
    "(slope, intercept, rvalue, pvalue, stderr) = linregress(x, y)\n",
    "regr_values = x * slope + intercept\n",
    "line_eq = \"y = \" + str(round(slope,2)) + \"x + \" + str(round(intercept,2))\n",
    "plt.scatter(x,y)\n",
    "plt.plot(x,regr_values,\"r-\")\n",
    "plt.annotate(line_eq,(28.3,6.3),fontsize=15,color=\"green\")\n",
    "plt.xlabel('Obesity Rates (%)')\n",
    "plt.ylabel('Diabetes Rates (%)')\n",
    "print(f\"The r-squared is: {rvalue**2}\")\n",
    "plt.show()"
   ]
  },
  {
   "cell_type": "markdown",
   "id": "2cdd0945",
   "metadata": {},
   "source": [
    "Obesity rates in the states explain 27% of the variability in diabetes rates"
   ]
  },
  {
   "cell_type": "code",
   "execution_count": null,
   "id": "f577af57",
   "metadata": {},
   "outputs": [],
   "source": [
    "#fitting a multiple linear regression: Diabete and Inactivity\n",
    "x = merged_df['In-Active %']\n",
    "\n",
    "# linear regression values, scatter plot and plotting the regression line on the graph\n",
    "(slope, intercept, rvalue, pvalue, stderr) = linregress(x, y)\n",
    "regr_values = x * slope + intercept\n",
    "line_eq = \"y = \" + str(round(slope,2)) + \"x + \" + str(round(intercept,2))\n",
    "plt.scatter(x,y)\n",
    "plt.plot(x,regr_values,\"r-\")\n",
    "plt.annotate(line_eq,(26.3,6.3),fontsize=15,color=\"orange\")\n",
    "plt.xlabel('Inactivity Rates (%)')\n",
    "plt.ylabel('Diabetes Rates (%)')\n",
    "print(f\"The r-squared is: {rvalue**2}\")\n",
    "plt.show()"
   ]
  },
  {
   "cell_type": "markdown",
   "id": "51a6bff2",
   "metadata": {},
   "source": [
    "Inactivity rates in the states explain 51% of the variability in diabetes rates"
   ]
  },
  {
   "cell_type": "code",
   "execution_count": null,
   "id": "8d422853",
   "metadata": {},
   "outputs": [],
   "source": [
    "#fitting a multiple linear regression: Diabete and Low Vegetable Consumption\n",
    "x = merged_df['Low Veggies Consumption %']\n",
    "\n",
    "# linear regression values, scatter plot and plotting the regression line on the graph\n",
    "(slope, intercept, rvalue, pvalue, stderr) = linregress(x, y)\n",
    "regr_values = x * slope + intercept\n",
    "line_eq = \"y = \" + str(round(slope,2)) + \"x + \" + str(round(intercept,2))\n",
    "plt.scatter(x,y)\n",
    "plt.plot(x,regr_values,\"r-\")\n",
    "plt.annotate(line_eq,(23.3,6.3),fontsize=15,color=\"cyan\")\n",
    "plt.xlabel('Low Vegetable Consumption Rates (%)')\n",
    "plt.ylabel('Diabetes Rates (%)')\n",
    "print(f\"The r-squared is: {rvalue**2}\")\n",
    "plt.show()"
   ]
  },
  {
   "cell_type": "markdown",
   "id": "f823be50",
   "metadata": {},
   "source": [
    "Low vegetable consumption rates in the states explain 31% of the variability in diabetes rates"
   ]
  },
  {
   "cell_type": "markdown",
   "id": "0770e432",
   "metadata": {},
   "source": [
    "Summary of findings:\n",
    "* Nutrition, physical activitiy, and obesity are highly correlated\n",
    "* Obesity rates in the states explain 27% of the variability in diabetes rates\n",
    "* Inactivity rates in the states explain 51% of the variability in diabetes rates\n",
    "* Low vegetable consumption rates in the states explain 31% of the variability in diabetes rates"
   ]
  },
  {
   "cell_type": "code",
   "execution_count": null,
   "id": "8ba0f0d9",
   "metadata": {},
   "outputs": [],
   "source": []
  }
 ],
 "metadata": {
  "kernelspec": {
   "display_name": "PythonData",
   "language": "python",
   "name": "pythondata"
  },
  "language_info": {
   "codemirror_mode": {
    "name": "ipython",
    "version": 3
   },
   "file_extension": ".py",
   "mimetype": "text/x-python",
   "name": "python",
   "nbconvert_exporter": "python",
   "pygments_lexer": "ipython3",
   "version": "3.7.7"
  }
 },
 "nbformat": 4,
 "nbformat_minor": 5
}
